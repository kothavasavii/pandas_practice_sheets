{
 "cells": [
  {
   "cell_type": "code",
   "execution_count": 1,
   "id": "4df8d4ef",
   "metadata": {},
   "outputs": [
    {
     "name": "stdout",
     "output_type": "stream",
     "text": [
      "[1 2 3]\n"
     ]
    }
   ],
   "source": [
    "import numpy as np\n",
    "arr_id=np.array([1,2,3])\n",
    "print(arr_id)"
   ]
  },
  {
   "cell_type": "code",
   "execution_count": 4,
   "id": "fea09edc",
   "metadata": {},
   "outputs": [
    {
     "name": "stdout",
     "output_type": "stream",
     "text": [
      "[[1 2 3]\n",
      " [4 5 6]]\n"
     ]
    }
   ],
   "source": [
    "arr_2d=np.array([[1,2,3],[4,5,6]])\n",
    "print(arr_2d)"
   ]
  },
  {
   "cell_type": "code",
   "execution_count": 5,
   "id": "0a659b52",
   "metadata": {},
   "outputs": [
    {
     "name": "stdout",
     "output_type": "stream",
     "text": [
      "[[0. 0. 0.]\n",
      " [0. 0. 0.]]\n"
     ]
    }
   ],
   "source": [
    "zeros=np.zeros((2,3))\n",
    "print(zeros)"
   ]
  },
  {
   "cell_type": "code",
   "execution_count": 6,
   "id": "e4d2df3a",
   "metadata": {},
   "outputs": [
    {
     "name": "stdout",
     "output_type": "stream",
     "text": [
      "[[1. 1. 1.]\n",
      " [1. 1. 1.]]\n"
     ]
    }
   ],
   "source": [
    "ones=np.ones((2,3))\n",
    "print(ones)"
   ]
  },
  {
   "cell_type": "code",
   "execution_count": 7,
   "id": "dc093de9",
   "metadata": {},
   "outputs": [
    {
     "name": "stdout",
     "output_type": "stream",
     "text": [
      "[[0.14319217 0.14125513]\n",
      " [0.82558823 0.00287958]]\n"
     ]
    }
   ],
   "source": [
    "random_arr=np.random.random((2,2))\n",
    "print(random_arr)"
   ]
  },
  {
   "cell_type": "code",
   "execution_count": 8,
   "id": "9a4b66ff",
   "metadata": {},
   "outputs": [
    {
     "name": "stdout",
     "output_type": "stream",
     "text": [
      "[[1. 0. 0.]\n",
      " [0. 1. 0.]\n",
      " [0. 0. 1.]]\n"
     ]
    }
   ],
   "source": [
    "identity=np.eye(3)\n",
    "print(identity)"
   ]
  },
  {
   "cell_type": "code",
   "execution_count": 9,
   "id": "0d6a9e5f",
   "metadata": {},
   "outputs": [
    {
     "name": "stdout",
     "output_type": "stream",
     "text": [
      "[0 2 4 6 8]\n"
     ]
    }
   ],
   "source": [
    "range=np.arange(0,10,2)\n",
    "print(range)"
   ]
  },
  {
   "cell_type": "code",
   "execution_count": 10,
   "id": "8de1f9f2",
   "metadata": {},
   "outputs": [
    {
     "name": "stdout",
     "output_type": "stream",
     "text": [
      "shape : (2, 3)\n",
      "Size : 6\n",
      "Data type : int32\n",
      "Dimension  2\n"
     ]
    }
   ],
   "source": [
    "print(\"shape :\",arr_2d.shape)\n",
    "print(\"Size :\",arr_2d.size)\n",
    "print(\"Data type :\",arr_2d.dtype)\n",
    "print(\"Dimension \",arr_2d.ndim)"
   ]
  },
  {
   "cell_type": "code",
   "execution_count": 21,
   "id": "78628202",
   "metadata": {},
   "outputs": [
    {
     "name": "stdout",
     "output_type": "stream",
     "text": [
      "[[2 3]\n",
      " [5 6]]\n"
     ]
    }
   ],
   "source": [
    "print(arr_2d[:,1:])"
   ]
  },
  {
   "cell_type": "code",
   "execution_count": 25,
   "id": "522367b5",
   "metadata": {},
   "outputs": [
    {
     "name": "stdout",
     "output_type": "stream",
     "text": [
      "[ 6  8 10]\n",
      "[ 5 12 21]\n"
     ]
    }
   ],
   "source": [
    "arr1=np.array([1,2,3])\n",
    "arr2=np.array([5,6,7])\n",
    "print(arr1+arr2)\n",
    "print(arr1*arr2)"
   ]
  },
  {
   "cell_type": "code",
   "execution_count": 29,
   "id": "ec133a9a",
   "metadata": {},
   "outputs": [
    {
     "name": "stdout",
     "output_type": "stream",
     "text": [
      "[[ 30  24  18]\n",
      " [ 84  69  54]\n",
      " [138 114  90]]\n"
     ]
    }
   ],
   "source": [
    "a=np.array([[1,2,3],[4,5,6],[7,8,9]])\n",
    "b=np.array([[9,8,7],[6,5,4],[3,2,1]])\n",
    "r=np.dot(a,b)\n",
    "print(r)"
   ]
  },
  {
   "cell_type": "code",
   "execution_count": 33,
   "id": "509614dd",
   "metadata": {},
   "outputs": [
    {
     "data": {
      "text/plain": [
       "[<matplotlib.lines.Line2D at 0x1b40be75390>,\n",
       " <matplotlib.lines.Line2D at 0x1b410bb60d0>,\n",
       " <matplotlib.lines.Line2D at 0x1b410bb63d0>]"
      ]
     },
     "execution_count": 33,
     "metadata": {},
     "output_type": "execute_result"
    },
    {
     "data": {
      "image/png": "[encoded data removed]",
      "text/plain": [
       "<Figure size 640x480 with 1 Axes>"
      ]
     },
     "metadata": {},
     "output_type": "display_data"
    }
   ],
   "source": [
    "import matplotlib.pyplot as plt\n",
    "plt.plot(a,b)"
   ]
  },
  {
   "cell_type": "code",
   "execution_count": 40,
   "id": "f344985a",
   "metadata": {},
   "outputs": [
    {
     "name": "stdout",
     "output_type": "stream",
     "text": [
      "Exponential: [ 2.71828183  7.3890561  20.08553692]\n",
      "Squar : [1.         1.41421356 1.73205081]\n",
      "loh : [0.         0.69314718 1.09861229]\n"
     ]
    }
   ],
   "source": [
    "print(\"Exponential:\",np.exp(arr1))\n",
    "print(\"Squar :\",np.sqrt(arr1))\n",
    "print(\"loh :\",np.log(arr1))"
   ]
  },
  {
   "cell_type": "code",
   "execution_count": 41,
   "id": "23942e28",
   "metadata": {},
   "outputs": [
    {
     "name": "stdout",
     "output_type": "stream",
     "text": [
      "Sum : 6\n",
      "Mean : 2.0\n",
      "Standard Deviation : 0.816496580927726\n",
      "Max : 3\n",
      "Min : 1\n"
     ]
    }
   ],
   "source": [
    "#Aggregate functions\n",
    "print(\"Sum :\",np.sum(arr1))\n",
    "print(\"Mean :\",np.mean(arr1))\n",
    "print(\"Standard Deviation :\",np.std(arr1))\n",
    "print(\"Max :\",np.max(arr1))\n",
    "print(\"Min :\",np.min(arr1))"
   ]
  },
  {
   "cell_type": "code",
   "execution_count": 44,
   "id": "fbcf519a",
   "metadata": {},
   "outputs": [
    {
     "name": "stdout",
     "output_type": "stream",
     "text": [
      "[[1 2 3]\n",
      " [4 5 6]]\n"
     ]
    }
   ],
   "source": [
    "#Reshaping array\n",
    "arr=np.array([1,2,3,4,5,6])\n",
    "reshaped=arr.reshape(2,3)\n",
    "print(reshaped)"
   ]
  },
  {
   "cell_type": "code",
   "execution_count": 45,
   "id": "71a0ec33",
   "metadata": {},
   "outputs": [
    {
     "name": "stdout",
     "output_type": "stream",
     "text": [
      "Vstack : [[1 2]\n",
      " [3 4]]\n",
      "Hstack : [1 2 3 4]\n"
     ]
    }
   ],
   "source": [
    "#Stacking\n",
    "a=np.array([1,2])\n",
    "b=np.array([3,4])\n",
    "print(\"Vstack :\",np.vstack((a,b)))\n",
    "print(\"Hstack :\",np.hstack((a,b)))"
   ]
  },
  {
   "cell_type": "code",
   "execution_count": 47,
   "id": "52a30e49",
   "metadata": {},
   "outputs": [
    {
     "name": "stdout",
     "output_type": "stream",
     "text": [
      "Splitting into 3 parts : [array([1, 2]), array([3, 4]), array([5, 6])]\n"
     ]
    }
   ],
   "source": [
    "# Splitting\n",
    "arr=np.array([1,2,3,4,5,6])\n",
    "print(\"Splitting into 3 parts :\",np.array_split(arr,3))"
   ]
  },
  {
   "cell_type": "code",
   "execution_count": 48,
   "id": "cfb4e938",
   "metadata": {},
   "outputs": [
    {
     "name": "stdout",
     "output_type": "stream",
     "text": [
      "[10  2  3]\n"
     ]
    }
   ],
   "source": [
    "# view(shares memory)\n",
    "arr=np.array([1,2,3])\n",
    "view=arr.view()\n",
    "view[0]=10\n",
    "print(arr)"
   ]
  },
  {
   "cell_type": "code",
   "execution_count": 49,
   "id": "6cfcc9a0",
   "metadata": {},
   "outputs": [
    {
     "name": "stdout",
     "output_type": "stream",
     "text": [
      "[10  2  3]\n"
     ]
    }
   ],
   "source": [
    "# copy(same as view but does not share memory) internally changes but cannot see\n",
    "copy=arr.copy()\n",
    "copy[0]=100\n",
    "print(arr)"
   ]
  },
  {
   "cell_type": "code",
   "execution_count": 50,
   "id": "e69983a7",
   "metadata": {},
   "outputs": [],
   "source": [
    "# save to file\n",
    "arr=np.array([1,2,3])\n",
    "np.save('array.npy',arr)"
   ]
  },
  {
   "cell_type": "code",
   "execution_count": 51,
   "id": "8e23c205",
   "metadata": {},
   "outputs": [
    {
     "name": "stdout",
     "output_type": "stream",
     "text": [
      "[1 2 3]\n"
     ]
    }
   ],
   "source": [
    "# load from file\n",
    "loaded_arr=np.load('array.npy')\n",
    "print(loaded_arr)"
   ]
  },
  {
   "cell_type": "code",
   "execution_count": null,
   "id": "41a47a3d",
   "metadata": {},
   "outputs": [],
   "source": []
  }
 ],
 "metadata": {
  "kernelspec": {
   "display_name": "Python 3 (ipykernel)",
   "language": "python",
   "name": "python3"
  },
  "language_info": {
   "codemirror_mode": {
    "name": "ipython",
    "version": 3
   },
   "file_extension": ".py",
   "mimetype": "text/x-python",
   "name": "python",
   "nbconvert_exporter": "python",
   "pygments_lexer": "ipython3",
   "version": "3.11.5"
  }
 },
 "nbformat": 4,
 "nbformat_minor": 5
}
