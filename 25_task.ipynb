{
 "cells": [
  {
   "cell_type": "code",
   "execution_count": 3,
   "id": "ac12d702-1cff-4eff-baca-0e7895c4392b",
   "metadata": {},
   "outputs": [
    {
     "name": "stdout",
     "output_type": "stream",
     "text": [
      "[10 11 12 13 14 15 16 17 18 19 20 21 22 23 24 25 26 27 28 29 30 31 32 33\n",
      " 34 35 36 37 38 39 40 41 42 43 44 45 46 47 48 49 50]\n"
     ]
    }
   ],
   "source": [
    "# Create a 1D array of numbers from 10 to 50.\n",
    "import numpy as np\n",
    "arr_1d=np.arange(10,51)\n",
    "print(arr_1d)"
   ]
  },
  {
   "cell_type": "code",
   "execution_count": 2,
   "id": "05b8c738-47e0-413e-a30e-476757d0250b",
   "metadata": {},
   "outputs": [
    {
     "name": "stdout",
     "output_type": "stream",
     "text": [
      "[[0.10470419 0.38383428 0.79940291]\n",
      " [0.149026   0.59651977 0.5432621 ]\n",
      " [0.62290844 0.15096647 0.79436771]]\n"
     ]
    }
   ],
   "source": [
    "# Create a 3x3 array of random numbers between 0 and 1.\n",
    "arr=np.random.rand(3,3)\n",
    "print(arr)"
   ]
  },
  {
   "cell_type": "code",
   "execution_count": 4,
   "id": "a37f363a-c20b-4e4c-855e-86b78fefe896",
   "metadata": {},
   "outputs": [
    {
     "name": "stdout",
     "output_type": "stream",
     "text": [
      "Shape : (41,)\n",
      "Size : 41\n",
      "Data types : int64\n"
     ]
    }
   ],
   "source": [
    "# Find the shape, size, and data type of the array you created in the previous task.\n",
    "print(\"Shape :\",arr_1d.shape)\n",
    "print(\"Size :\",arr_1d.size)\n",
    "print(\"Data types :\",arr_1d.dtype)"
   ]
  },
  {
   "cell_type": "code",
   "execution_count": 5,
   "id": "da609839-e0d4-49b9-b6ef-7533e9a2e118",
   "metadata": {},
   "outputs": [
    {
     "name": "stdout",
     "output_type": "stream",
     "text": [
      "[15 16 17 18 19 20 21 22 23 24 25 26 27 28 29 30 31 32 33 34 35 36 37 38\n",
      " 39 40 41 42 43 44 45 46 47 48 49 50 51 52 53 54 55]\n"
     ]
    }
   ],
   "source": [
    "# Add 5 to every element of a 1D array.\n",
    "print(arr_1d+5)"
   ]
  },
  {
   "cell_type": "code",
   "execution_count": 6,
   "id": "abfaf53b-f82b-4c51-bde6-2ad7ee50c73f",
   "metadata": {},
   "outputs": [
    {
     "name": "stdout",
     "output_type": "stream",
     "text": [
      "[[ 9 16 21]\n",
      " [24 25 24]\n",
      " [21 16  9]]\n"
     ]
    }
   ],
   "source": [
    "# Multiply two 2D arrays element-wise.\n",
    "array1 = np.array([[1, 2, 3], [4, 5, 6], [7, 8, 9]])\n",
    "array2 = np.array([[9, 8, 7], [6, 5, 4], [3, 2, 1]])\n",
    "result=np.multiply(array1,array2)\n",
    "print(result)"
   ]
  },
  {
   "cell_type": "code",
   "execution_count": 8,
   "id": "021fd1cc-a510-4fa2-9d48-10d2c025c407",
   "metadata": {},
   "outputs": [
    {
     "name": "stdout",
     "output_type": "stream",
     "text": [
      "[[ 1  2  3  4  5]\n",
      " [ 6  7  8  9 10]\n",
      " [11 12 13 14 15]\n",
      " [16 17 18 19 20]\n",
      " [21 22 23 24 25]]\n",
      "1st row : [[1 2 3 4 5]]\n",
      "last Column : [[ 5]\n",
      " [10]\n",
      " [15]\n",
      " [20]\n",
      " [25]]\n",
      "Subarray : [[ 1  2]\n",
      " [ 6  7]\n",
      " [11 12]]\n"
     ]
    }
   ],
   "source": [
    "# Create a 5x5 array of integers from 1 to 25. \n",
    "arr_5d=np.arange(1,26).reshape(5,5)\n",
    "print(arr_5d)\n",
    "# First Row\n",
    "print(\"1st row :\",arr_5d[:1])\n",
    "#Last Column\n",
    "print(\"last Column :\",arr_5d[:,4:])\n",
    "# A subarray of the first three rows and first two columns.\n",
    "copy=arr_5d[:3,:2]\n",
    "print(\"Subarray :\",copy)"
   ]
  },
  {
   "cell_type": "code",
   "execution_count": 9,
   "id": "6e1bb1ea-7fe3-4fab-a398-6a88e24162cd",
   "metadata": {},
   "outputs": [
    {
     "name": "stdout",
     "output_type": "stream",
     "text": [
      "[16 43 90 64 97 68 24 76 60 56]\n",
      "Max : 97\n",
      "Min : 16\n",
      "Mean : 59.4\n",
      "Standard Deviation : 24.77579463912308\n"
     ]
    }
   ],
   "source": [
    "# Create a 10-element array of random integers between 1 and 100. \n",
    "arr=np.random.randint(1,101,size=10)\n",
    "print(arr)\n",
    "# The maximum value.\n",
    "print(\"Max :\",np.max(arr))\n",
    "print(\"Min :\",np.min(arr))\n",
    "# The mean and standard deviation.\n",
    "print(\"Mean :\",np.mean(arr))\n",
    "print(\"Standard Deviation :\",np.std(arr))"
   ]
  },
  {
   "cell_type": "code",
   "execution_count": 10,
   "id": "a3d501d0-6754-43b9-8584-2c1a2f8806b7",
   "metadata": {},
   "outputs": [
    {
     "name": "stdout",
     "output_type": "stream",
     "text": [
      "[ 1  2  3  4  5  6  7  8  9 10 11 12]\n",
      "[[ 1  2  3  4]\n",
      " [ 5  6  7  8]\n",
      " [ 9 10 11 12]]\n"
     ]
    }
   ],
   "source": [
    "# Convert a 1D array of numbers from 1 to 12 into a 3x4 matrix.\n",
    "array=np.arange(1,13)\n",
    "print(array)\n",
    "reshaped=array.reshape(3,4)\n",
    "print(reshaped)"
   ]
  },
  {
   "cell_type": "code",
   "execution_count": 11,
   "id": "4031c13c-3eec-4917-9206-b1b27dc554b5",
   "metadata": {},
   "outputs": [
    {
     "name": "stdout",
     "output_type": "stream",
     "text": [
      "Matix of ones\n",
      "[[1. 1. 1.]\n",
      " [1. 1. 1.]\n",
      " [1. 1. 1.]]\n",
      "Updated matrix\n",
      "[[2. 3. 4.]\n",
      " [2. 3. 4.]\n",
      " [2. 3. 4.]]\n"
     ]
    }
   ],
   "source": [
    "# Create a 3x3 matrix of ones. Add a 1D array [1, 2, 3] to each row.\n",
    "print(\"Matix of ones\")\n",
    "onesarr=np.ones((3,3))\n",
    "print(onesarr)\n",
    "print(\"Updated matrix\")\n",
    "print(onesarr+[1,2,3])"
   ]
  },
  {
   "cell_type": "code",
   "execution_count": 13,
   "id": "f3006e5e-db0a-4c70-a42e-6f3499cd30ad",
   "metadata": {},
   "outputs": [
    {
     "name": "stdout",
     "output_type": "stream",
     "text": [
      "Original array : [26 28 14 18 16 26 18 28 42 39 50 48 27 23  8 47 46 40 34 41]\n",
      "Array divisible by 5 : [50 40]\n"
     ]
    }
   ],
   "source": [
    "# Create a 1D array of random integers between 1 and 50. Extract all elements that are divisible by 5\n",
    "arr=np.random.randint(1,51,size=20)\n",
    "divisible_by5=arr[arr%5==0]\n",
    "print(\"Original array :\",arr)\n",
    "print(\"Array divisible by 5 :\",divisible_by5) "
   ]
  },
  {
   "cell_type": "code",
   "execution_count": 15,
   "id": "ee4c1fd7-6222-413e-a411-6108dea05a77",
   "metadata": {},
   "outputs": [
    {
     "name": "stdout",
     "output_type": "stream",
     "text": [
      "Matrix multiplication :\n",
      "[[19 22]\n",
      " [43 50]]\n"
     ]
    }
   ],
   "source": [
    "# Create two 2x2 matrices and perform matrix multiplication.\n",
    "arr1_2d=np.array([[1,2],[3,4]])\n",
    "arr2_2d=np.array([[5,6],[7,8]])\n",
    "print(\"Matrix multiplication :\")\n",
    "print(np.dot(arr1_2d,arr2_2d))"
   ]
  },
  {
   "cell_type": "code",
   "execution_count": 18,
   "id": "951f276e-f36c-4ba1-a7f3-818180dfde79",
   "metadata": {},
   "outputs": [
    {
     "name": "stdout",
     "output_type": "stream",
     "text": [
      "Original matrix :\n",
      "[[ 1  2  3  4]\n",
      " [ 5  6  7  8]\n",
      " [ 9 10 11 12]\n",
      " [13 14 15 16]]\n",
      "Diagnol elements :\n",
      "[ 1  6 11 16]\n"
     ]
    }
   ],
   "source": [
    "# Given a 4x4 array, use fancy indexing to extract the diagonal elements.\n",
    "arr_4d=np.arange(1,17).reshape(4,4)\n",
    "print(\"Original matrix :\")\n",
    "print(arr_4d)\n",
    "diagnol_matrix=arr_4d[np.arange(4),np.arange(4)]\n",
    "print(\"Diagnol elements :\")\n",
    "print(diagnol_matrix)"
   ]
  },
  {
   "cell_type": "code",
   "execution_count": null,
   "id": "b2b77a06-217f-423c-9479-da88455a5831",
   "metadata": {},
   "outputs": [],
   "source": []
  }
 ],
 "metadata": {
  "kernelspec": {
   "display_name": "Python 3 (ipykernel)",
   "language": "python",
   "name": "python3"
  },
  "language_info": {
   "codemirror_mode": {
    "name": "ipython",
    "version": 3
   },
   "file_extension": ".py",
   "mimetype": "text/x-python",
   "name": "python",
   "nbconvert_exporter": "python",
   "pygments_lexer": "ipython3",
   "version": "3.13.1"
  }
 },
 "nbformat": 4,
 "nbformat_minor": 5
}
